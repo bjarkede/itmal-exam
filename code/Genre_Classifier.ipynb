{
 "cells": [
  {
   "cell_type": "code",
   "execution_count": 115,
   "metadata": {},
   "outputs": [
    {
     "name": "stdout",
     "output_type": "stream",
     "text": [
      "done loading\n"
     ]
    }
   ],
   "source": [
    "# Usual Libraries\n",
    "import pandas as pd\n",
    "import numpy as np\n",
    "import seaborn as sns\n",
    "import matplotlib.pyplot as plt\n",
    "%matplotlib inline\n",
    "import sklearn\n",
    "\n",
    "from IPython.lib.deepreload import reload as dreload\n",
    "\n",
    "# Librosa (the mother of audio files)\n",
    "import librosa\n",
    "import librosa.display\n",
    "import IPython.display as ipd\n",
    "import warnings\n",
    "warnings.filterwarnings('ignore')\n",
    "\n",
    "from data_preprocessing import *\n",
    "from data_analysis import *\n",
    "from helpers import *\n",
    "import os\n",
    "from os import path\n",
    "import numpy as np\n",
    "import pickle\n",
    "import itertools\n",
    "import librosa\n",
    "import pandas as pd\n",
    "from scipy.stats import kurtosis\n",
    "from scipy.stats import skew\n",
    "from sklearn.model_selection import train_test_split\n",
    "from sklearn.preprocessing import StandardScaler\n",
    "from sklearn.naive_bayes import GaussianNB\n",
    "from sklearn.linear_model import SGDClassifier, LogisticRegression\n",
    "from sklearn.neighbors import KNeighborsClassifier\n",
    "from sklearn.tree import DecisionTreeClassifier\n",
    "from sklearn.ensemble import RandomForestClassifier\n",
    "from sklearn.svm import SVC\n",
    "from sklearn.neural_network import MLPClassifier\n",
    "from xgboost import XGBClassifier, XGBRFClassifier\n",
    "from xgboost import plot_tree, plot_importance\n",
    "\n",
    "from sklearn.metrics import confusion_matrix, accuracy_score, precision_score, recall_score,f1_score\n",
    "from sklearn import preprocessing\n",
    "from sklearn.model_selection import train_test_split\n",
    "from sklearn.feature_selection import RFE\n",
    "from sklearn.experimental import enable_hist_gradient_boosting\n",
    "from sklearn.ensemble import GradientBoostingClassifier, HistGradientBoostingClassifier\n",
    "\n",
    "fileName = \"features.dat\"\n",
    "\n",
    "data = load_binaryfile(fileName)\n",
    "\n",
    "print(\"done loading\")\n"
   ]
  },
  {
   "cell_type": "code",
   "execution_count": 8,
   "metadata": {},
   "outputs": [],
   "source": [
    "y = data.classlabel\n",
    "X = data.drop('classlabel',axis=1)\n",
    "\n",
    "cols = X.columns\n",
    "min_max_scaler = preprocessing.MinMaxScaler()\n",
    "np_scaled = min_max_scaler.fit_transform(X)\n",
    "\n",
    "X = pd.DataFrame(np_scaled, columns = cols)\n",
    "\n",
    "X_train, X_test, y_train, y_test = train_test_split(X, y, test_size=0.3, random_state=42)"
   ]
  },
  {
   "cell_type": "code",
   "execution_count": 9,
   "metadata": {
    "scrolled": true
   },
   "outputs": [],
   "source": [
    "def model_assess(model, title = \"Default\"):\n",
    "    model.fit(X_train, y_train)\n",
    "    preds = model.predict(X_test)\n",
    "    score = accuracy_score(y_test, preds) * 100 #* 100 for procent\n",
    "    print(f'Accuracy {title} : {score:4.3f}%\\n')"
   ]
  },
  {
   "cell_type": "code",
   "execution_count": null,
   "metadata": {},
   "outputs": [],
   "source": []
  },
  {
   "cell_type": "code",
   "execution_count": 10,
   "metadata": {},
   "outputs": [
    {
     "name": "stdout",
     "output_type": "stream",
     "text": [
      "Accuracy Naive Bayes : 38.172%\n",
      "\n",
      "Accuracy Stochastic Gradient Descent : 54.087%\n",
      "\n",
      "Accuracy KNN : 78.345%\n",
      "\n",
      "Accuracy Decission trees : 66.400%\n",
      "\n",
      "Accuracy Random Forest : 83.217%\n",
      "\n",
      "Accuracy Support Vector Machine : 59.459%\n",
      "\n",
      "Accuracy Logistic Regression : 57.624%\n",
      "\n",
      "Accuracy Neural Nets : 64.231%\n",
      "\n",
      "Accuracy Gradient boost : 78.111%\n",
      "\n",
      "Accuracy Hist gradient boost : 87.988%\n",
      "\n",
      "Accuracy Cross Gradient Booster : 86.486%\n",
      "\n"
     ]
    }
   ],
   "source": [
    "nb = GaussianNB()\n",
    "model_assess(nb, \"Naive Bayes\")\n",
    "\n",
    "sgd = SGDClassifier()\n",
    "model_assess(sgd, \"Stochastic Gradient Descent\")\n",
    "\n",
    "knn = KNeighborsClassifier()\n",
    "model_assess(knn, \"KNN\")\n",
    "\n",
    "tree = DecisionTreeClassifier()\n",
    "model_assess(tree, \"Decission trees\")\n",
    "\n",
    "rforest = RandomForestClassifier()\n",
    "model_assess(rforest, \"Random Forest\")\n",
    "\n",
    "svm = SVC()\n",
    "model_assess(svm, \"Support Vector Machine\")\n",
    "\n",
    "lg = LogisticRegression()\n",
    "model_assess(lg, \"Logistic Regression\")\n",
    "\n",
    "nn = MLPClassifier()\n",
    "model_assess(nn, \"Neural Nets\")\n",
    "\n",
    "grad = GradientBoostingClassifier()\n",
    "model_assess(grad,\"Gradient boost\")\n",
    "\n",
    "#Hist klart bedste score - men experimental, så på nuværende ikke \"fremtids sikker\"\n",
    "hist = HistGradientBoostingClassifier()\n",
    "model_assess(hist,\"Hist gradient boost\")\n",
    "\n",
    "xgb = XGBClassifier()\n",
    "model_assess(xgb, \"Cross Gradient Booster\")"
   ]
  },
  {
   "cell_type": "code",
   "execution_count": 11,
   "metadata": {},
   "outputs": [
    {
     "data": {
      "text/plain": [
       "GridSearchCV(cv=10,\n",
       "             estimator=XGBClassifier(base_score=None, booster=None,\n",
       "                                     colsample_bylevel=None,\n",
       "                                     colsample_bynode=None,\n",
       "                                     colsample_bytree=None, gamma=None,\n",
       "                                     gpu_id=None, importance_type='gain',\n",
       "                                     interaction_constraints=None,\n",
       "                                     learning_rate=None, max_delta_step=None,\n",
       "                                     max_depth=None, min_child_weight=None,\n",
       "                                     missing=nan, monotone_constraints=None,\n",
       "                                     n_estimators=100, n_job...\n",
       "                                     reg_alpha=None, reg_lambda=None,\n",
       "                                     scale_pos_weight=None, subsample=None,\n",
       "                                     tree_method=None, validate_parameters=None,\n",
       "                                     verbosity=None),\n",
       "             iid=True, n_jobs=-1,\n",
       "             param_grid=[{'eta': [1e-05, 0.001, 0.1, 1],\n",
       "                          'grow_policy': ['depthwise', 'lossguide'],\n",
       "                          'max_depth': [5, 10, 20, 40, 100],\n",
       "                          'sampling_method': ['uniform'], 'subsample': [0.5, 1],\n",
       "                          'tree_method': ['exact', 'approx', 'hist']}],\n",
       "             scoring='f1_micro', verbose=False)"
      ]
     },
     "execution_count": 11,
     "metadata": {},
     "output_type": "execute_result"
    }
   ],
   "source": [
    "from sklearn.model_selection import GridSearchCV\n",
    "\n",
    "model = XGBClassifier()\n",
    "\n",
    "params = [{\n",
    "    'eta':[1e-5,1e-3,1e-1,1],\n",
    "    'max_depth':[5,10,20,40,100],\n",
    "    'subsample':[0.5,1],\n",
    "    'sampling_method':['uniform'],\n",
    "    'tree_method':['exact','approx','hist'],\n",
    "    'grow_policy':['depthwise','lossguide']\n",
    "}]\n",
    "#Findes flere sampling måder - men virker kun GPU based\n",
    "#subsample < 1, skulle gerne skal tjek for overfitting.\n",
    "#Eta = learning rate.\n",
    "\n",
    "grid_tuned = GridSearchCV(estimator=model,\n",
    "                         param_grid=params,\n",
    "                         cv=10,\n",
    "                         scoring='f1_micro',\n",
    "                         verbose=False,\n",
    "                         iid=True,\n",
    "                         n_jobs=-1)\n",
    "\n",
    "grid_tuned.fit(X_train,y_train)\n"
   ]
  },
  {
   "cell_type": "code",
   "execution_count": 13,
   "metadata": {},
   "outputs": [
    {
     "name": "stdout",
     "output_type": "stream",
     "text": [
      "best params: {'eta': 0.1, 'grow_policy': 'depthwise', 'max_depth': 10, 'sampling_method': 'uniform', 'subsample': 1, 'tree_method': 'approx'}\n",
      "model scoring: f1_micro\n",
      "best score: 0.8376948376948377\n",
      "mean score: [0.64593165 0.64292864 0.64078364 0.58458458 0.58415558 0.58329758\n",
      " 0.73459173 0.73859574 0.73773774 0.65508366 0.66394966 0.65880166\n",
      " 0.74259974 0.74545975 0.74360074 0.65694266 0.67739168 0.66852567\n",
      " 0.74259974 0.74545975 0.74360074 0.65694266 0.67739168 0.66852567\n",
      " 0.74259974 0.74545975 0.74360074 0.65694266 0.67739168 0.66852567\n",
      " 0.64593165 0.64292864 0.64078364 0.58458458 0.58415558 0.58329758\n",
      " 0.73459173 0.73859574 0.73773774 0.65508366 0.66394966 0.65880166\n",
      " 0.74259974 0.74545975 0.74360074 0.65694266 0.67739168 0.66852567\n",
      " 0.74259974 0.74545975 0.74360074 0.65694266 0.67739168 0.66852567\n",
      " 0.74259974 0.74545975 0.74360074 0.65694266 0.67739168 0.66852567\n",
      " 0.64864865 0.64550265 0.64578865 0.60589161 0.61718862 0.6027456\n",
      " 0.73788074 0.74188474 0.73830974 0.68396968 0.72615473 0.68926069\n",
      " 0.74388674 0.74917775 0.74660375 0.69040469 0.74145574 0.6981267\n",
      " 0.74388674 0.74917775 0.74688975 0.69040469 0.74217074 0.6984127\n",
      " 0.74388674 0.74917775 0.74688975 0.69040469 0.74217074 0.6984127\n",
      " 0.64864865 0.64550265 0.64578865 0.60589161 0.61718862 0.6027456\n",
      " 0.73788074 0.74188474 0.73830974 0.68396968 0.72615473 0.68926069\n",
      " 0.74388674 0.74917775 0.74660375 0.69040469 0.74145574 0.6981267\n",
      " 0.74388674 0.74917775 0.74688975 0.69040469 0.74217074 0.6984127\n",
      " 0.74388674 0.74917775 0.74688975 0.69040469 0.74217074 0.6984127\n",
      " 0.8006578  0.8022308  0.8029458  0.79150579 0.79479479 0.78821679\n",
      " 0.82997283 0.83311883 0.83411983 0.82768483 0.83769484 0.82396682\n",
      " 0.83626484 0.83554984 0.83454883 0.82639783 0.83512084 0.82797083\n",
      " 0.83183183 0.83726584 0.83540684 0.82711283 0.83583584 0.82382382\n",
      " 0.83183183 0.83726584 0.83540684 0.82711283 0.83583584 0.82382382\n",
      " 0.8006578  0.8022308  0.8029458  0.79150579 0.79479479 0.78821679\n",
      " 0.82997283 0.83311883 0.83411983 0.82768483 0.83769484 0.82396682\n",
      " 0.83626484 0.83554984 0.83454883 0.82639783 0.83512084 0.82797083\n",
      " 0.83183183 0.83726584 0.83540684 0.82711283 0.83583584 0.82382382\n",
      " 0.83183183 0.83726584 0.83540684 0.82711283 0.83583584 0.82382382\n",
      " 0.8040898  0.81123981 0.7989418  0.82596883 0.83612184 0.83211783\n",
      " 0.78406978 0.79236379 0.78335478 0.81066781 0.81724582 0.81252681\n",
      " 0.78778779 0.79407979 0.78349778 0.80580581 0.81081081 0.81224081\n",
      " 0.78120978 0.79179179 0.78349778 0.80752181 0.81538682 0.80923781\n",
      " 0.78120978 0.79179179 0.78349778 0.80752181 0.81538682 0.80923781\n",
      " 0.8040898  0.81123981 0.7989418  0.82596883 0.83612184 0.83211783\n",
      " 0.78406978 0.79236379 0.78335478 0.81066781 0.81724582 0.81252681\n",
      " 0.78778779 0.79407979 0.78349778 0.80580581 0.81081081 0.81224081\n",
      " 0.78120978 0.79179179 0.78349778 0.80752181 0.81538682 0.80923781\n",
      " 0.78120978 0.79179179 0.78349778 0.80752181 0.81538682 0.80923781]\n",
      "std score: [0.01620731 0.01614562 0.01618919 0.01624023 0.01413538 0.01678317\n",
      " 0.01101196 0.01057457 0.00637414 0.01780934 0.01152568 0.01684032\n",
      " 0.010538   0.01116281 0.00555229 0.01335417 0.01275835 0.01249917\n",
      " 0.010538   0.01116281 0.00555229 0.01335417 0.01275835 0.01249917\n",
      " 0.010538   0.01116281 0.00555229 0.01335417 0.01275835 0.01249917\n",
      " 0.01620731 0.01614562 0.01618919 0.01624023 0.01413538 0.01678317\n",
      " 0.01101196 0.01057457 0.00637414 0.01780934 0.01152568 0.01684032\n",
      " 0.010538   0.01116281 0.00555229 0.01335417 0.01275835 0.01249917\n",
      " 0.010538   0.01116281 0.00555229 0.01335417 0.01275835 0.01249917\n",
      " 0.010538   0.01116281 0.00555229 0.01335417 0.01275835 0.01249917\n",
      " 0.01513526 0.01507798 0.01670056 0.01706927 0.01508313 0.02237865\n",
      " 0.00957035 0.00836914 0.00634224 0.00881608 0.00974205 0.0144484\n",
      " 0.00907507 0.0088236  0.0055111  0.00974127 0.00918093 0.01291064\n",
      " 0.00907507 0.00860645 0.00530541 0.00982491 0.00953304 0.01286013\n",
      " 0.00907507 0.00860645 0.00530541 0.00982491 0.00953304 0.01286013\n",
      " 0.01513526 0.01507798 0.01670056 0.01706927 0.01508313 0.02237865\n",
      " 0.00957035 0.00836914 0.00634224 0.00881608 0.00974205 0.0144484\n",
      " 0.00907507 0.0088236  0.0055111  0.00974127 0.00918093 0.01291064\n",
      " 0.00907507 0.00860645 0.00530541 0.00982491 0.00953304 0.01286013\n",
      " 0.00907507 0.00860645 0.00530541 0.00982491 0.00953304 0.01286013\n",
      " 0.00823642 0.00982932 0.01108467 0.01170137 0.01050661 0.00823919\n",
      " 0.01037988 0.01101389 0.00931911 0.00828192 0.00570823 0.00730419\n",
      " 0.01000454 0.01014285 0.00975226 0.00742606 0.00635871 0.00540251\n",
      " 0.01300325 0.01148906 0.01045343 0.00901797 0.00609058 0.0068549\n",
      " 0.01300325 0.01148906 0.01045343 0.00901797 0.00609058 0.0068549\n",
      " 0.00823642 0.00982932 0.01108467 0.01170137 0.01050661 0.00823919\n",
      " 0.01037988 0.01101389 0.00931911 0.00828192 0.00570823 0.00730419\n",
      " 0.01000454 0.01014285 0.00975226 0.00742606 0.00635871 0.00540251\n",
      " 0.01300325 0.01148906 0.01045343 0.00901797 0.00609058 0.0068549\n",
      " 0.01300325 0.01148906 0.01045343 0.00901797 0.00609058 0.0068549\n",
      " 0.01196001 0.01279454 0.01454989 0.00855631 0.00583195 0.01223285\n",
      " 0.01048595 0.01040728 0.00830898 0.01082331 0.01000409 0.01085416\n",
      " 0.01024657 0.01273853 0.00918956 0.00813846 0.01300818 0.01066296\n",
      " 0.00838703 0.0137218  0.01076256 0.00779567 0.00979895 0.01246742\n",
      " 0.00838703 0.0137218  0.01076256 0.00779567 0.00979895 0.01246742\n",
      " 0.01196001 0.01279454 0.01454989 0.00855631 0.00583195 0.01223285\n",
      " 0.01048595 0.01040728 0.00830898 0.01082331 0.01000409 0.01085416\n",
      " 0.01024657 0.01273853 0.00918956 0.00813846 0.01300818 0.01066296\n",
      " 0.00838703 0.0137218  0.01076256 0.00779567 0.00979895 0.01246742\n",
      " 0.00838703 0.0137218  0.01076256 0.00779567 0.00979895 0.01246742]\n"
     ]
    }
   ],
   "source": [
    "print(\"best params:\",grid_tuned.best_params_)\n",
    "print(\"model scoring:\",grid_tuned.scoring)\n",
    "print(\"best score:\",grid_tuned.best_score_)\n",
    "try:\n",
    "    print(\"mean score:\",grid_tuned.cv_results_['mean_test_score'])\n",
    "    print(\"std score:\",grid_tuned.cv_results_['std_test_score'])\n",
    "except:\n",
    "    print(\"Random error 42.\")"
   ]
  },
  {
   "cell_type": "code",
   "execution_count": 37,
   "metadata": {},
   "outputs": [
    {
     "name": "stdout",
     "output_type": "stream",
     "text": [
      "[0]\tvalidation_0-merror:0.31698\n",
      "Will train until validation_0-merror hasn't improved in 10 rounds.\n",
      "[1]\tvalidation_0-merror:0.27661\n",
      "[2]\tvalidation_0-merror:0.24925\n",
      "[3]\tvalidation_0-merror:0.24424\n",
      "[4]\tvalidation_0-merror:0.23223\n",
      "[5]\tvalidation_0-merror:0.22723\n",
      "[6]\tvalidation_0-merror:0.21989\n",
      "[7]\tvalidation_0-merror:0.21655\n",
      "[8]\tvalidation_0-merror:0.21054\n",
      "[9]\tvalidation_0-merror:0.20587\n",
      "[10]\tvalidation_0-merror:0.20287\n",
      "[11]\tvalidation_0-merror:0.20320\n",
      "[12]\tvalidation_0-merror:0.19853\n",
      "[13]\tvalidation_0-merror:0.19620\n",
      "[14]\tvalidation_0-merror:0.19286\n",
      "[15]\tvalidation_0-merror:0.19586\n",
      "[16]\tvalidation_0-merror:0.19486\n",
      "[17]\tvalidation_0-merror:0.19419\n",
      "[18]\tvalidation_0-merror:0.18952\n",
      "[19]\tvalidation_0-merror:0.18986\n",
      "[20]\tvalidation_0-merror:0.18752\n",
      "[21]\tvalidation_0-merror:0.18552\n",
      "[22]\tvalidation_0-merror:0.18552\n",
      "[23]\tvalidation_0-merror:0.18652\n",
      "[24]\tvalidation_0-merror:0.18485\n",
      "[25]\tvalidation_0-merror:0.18318\n",
      "[26]\tvalidation_0-merror:0.18252\n",
      "[27]\tvalidation_0-merror:0.18285\n",
      "[28]\tvalidation_0-merror:0.18118\n",
      "[29]\tvalidation_0-merror:0.17885\n",
      "[30]\tvalidation_0-merror:0.17951\n",
      "[31]\tvalidation_0-merror:0.17618\n",
      "[32]\tvalidation_0-merror:0.17484\n",
      "[33]\tvalidation_0-merror:0.17451\n",
      "[34]\tvalidation_0-merror:0.17284\n",
      "[35]\tvalidation_0-merror:0.17251\n",
      "[36]\tvalidation_0-merror:0.17217\n",
      "[37]\tvalidation_0-merror:0.17217\n",
      "[38]\tvalidation_0-merror:0.17217\n",
      "[39]\tvalidation_0-merror:0.17117\n",
      "[40]\tvalidation_0-merror:0.17150\n",
      "[41]\tvalidation_0-merror:0.16984\n",
      "[42]\tvalidation_0-merror:0.16717\n",
      "[43]\tvalidation_0-merror:0.16683\n",
      "[44]\tvalidation_0-merror:0.16784\n",
      "[45]\tvalidation_0-merror:0.16583\n",
      "[46]\tvalidation_0-merror:0.16683\n",
      "[47]\tvalidation_0-merror:0.16483\n",
      "[48]\tvalidation_0-merror:0.16483\n",
      "[49]\tvalidation_0-merror:0.16450\n",
      "[50]\tvalidation_0-merror:0.16450\n",
      "[51]\tvalidation_0-merror:0.16450\n",
      "[52]\tvalidation_0-merror:0.16350\n",
      "[53]\tvalidation_0-merror:0.16049\n",
      "[54]\tvalidation_0-merror:0.16016\n",
      "[55]\tvalidation_0-merror:0.15882\n",
      "[56]\tvalidation_0-merror:0.15916\n",
      "[57]\tvalidation_0-merror:0.15983\n",
      "[58]\tvalidation_0-merror:0.15949\n",
      "[59]\tvalidation_0-merror:0.15816\n",
      "[60]\tvalidation_0-merror:0.15716\n",
      "[61]\tvalidation_0-merror:0.15682\n",
      "[62]\tvalidation_0-merror:0.15782\n",
      "[63]\tvalidation_0-merror:0.15849\n",
      "[64]\tvalidation_0-merror:0.15782\n",
      "[65]\tvalidation_0-merror:0.15682\n",
      "[66]\tvalidation_0-merror:0.15616\n",
      "[67]\tvalidation_0-merror:0.15549\n",
      "[68]\tvalidation_0-merror:0.15482\n",
      "[69]\tvalidation_0-merror:0.15349\n",
      "[70]\tvalidation_0-merror:0.15382\n",
      "[71]\tvalidation_0-merror:0.15349\n",
      "[72]\tvalidation_0-merror:0.15249\n",
      "[73]\tvalidation_0-merror:0.15215\n",
      "[74]\tvalidation_0-merror:0.15215\n",
      "[75]\tvalidation_0-merror:0.15182\n",
      "[76]\tvalidation_0-merror:0.15215\n",
      "[77]\tvalidation_0-merror:0.15115\n",
      "[78]\tvalidation_0-merror:0.15349\n",
      "[79]\tvalidation_0-merror:0.15382\n",
      "[80]\tvalidation_0-merror:0.15249\n",
      "[81]\tvalidation_0-merror:0.15149\n",
      "[82]\tvalidation_0-merror:0.15082\n",
      "[83]\tvalidation_0-merror:0.14915\n",
      "[84]\tvalidation_0-merror:0.14948\n",
      "[85]\tvalidation_0-merror:0.15015\n",
      "[86]\tvalidation_0-merror:0.14948\n",
      "[87]\tvalidation_0-merror:0.14748\n",
      "[88]\tvalidation_0-merror:0.14748\n",
      "[89]\tvalidation_0-merror:0.14715\n",
      "[90]\tvalidation_0-merror:0.14615\n",
      "[91]\tvalidation_0-merror:0.14648\n",
      "[92]\tvalidation_0-merror:0.14648\n",
      "[93]\tvalidation_0-merror:0.14514\n",
      "[94]\tvalidation_0-merror:0.14581\n",
      "[95]\tvalidation_0-merror:0.14514\n",
      "[96]\tvalidation_0-merror:0.14481\n",
      "[97]\tvalidation_0-merror:0.14615\n",
      "[98]\tvalidation_0-merror:0.14581\n",
      "[99]\tvalidation_0-merror:0.14548\n",
      "{'validation_0': {'merror': [0.316984, 0.27661, 0.249249, 0.244244, 0.232232, 0.227227, 0.219887, 0.21655, 0.210544, 0.205873, 0.20287, 0.203203, 0.198532, 0.196196, 0.19286, 0.195863, 0.194862, 0.194194, 0.189523, 0.189857, 0.187521, 0.185519, 0.185519, 0.18652, 0.184852, 0.183183, 0.182516, 0.18285, 0.181181, 0.178846, 0.179513, 0.176176, 0.174842, 0.174508, 0.17284, 0.172506, 0.172172, 0.172172, 0.172172, 0.171171, 0.171505, 0.169837, 0.167167, 0.166834, 0.167835, 0.165833, 0.166834, 0.164832, 0.164832, 0.164498, 0.164498, 0.164498, 0.163497, 0.160494, 0.16016, 0.158825, 0.159159, 0.159826, 0.159493, 0.158158, 0.157157, 0.156823, 0.157824, 0.158492, 0.157824, 0.156823, 0.156156, 0.155489, 0.154821, 0.153487, 0.15382, 0.153487, 0.152486, 0.152152, 0.152152, 0.151818, 0.152152, 0.151151, 0.153487, 0.15382, 0.152486, 0.151485, 0.150817, 0.149149, 0.149483, 0.15015, 0.149483, 0.147481, 0.147481, 0.147147, 0.146146, 0.14648, 0.14648, 0.145145, 0.145812, 0.145145, 0.144811, 0.146146, 0.145812, 0.145479]}}\n"
     ]
    }
   ],
   "source": [
    "#best model / easy stopping\n",
    "eval_set = [(X_test,y_test)]\n",
    "model = XGBClassifier(eta = 0.1,\n",
    "                      grow_policy = 'depthwise',max_depth = 10,\n",
    "                      sampling_method = 'uniform',\n",
    "                      subsample = 1,\n",
    "                      tree_method = 'approx'\n",
    "                     )\n",
    "\n",
    "model.fit(X_train,y_train,early_stopping_rounds=10,eval_metric=\"merror\",eval_set=eval_set,verbose=True)\n",
    "results = model.evals_result()\n",
    "print(results)"
   ]
  },
  {
   "cell_type": "code",
   "execution_count": 48,
   "metadata": {},
   "outputs": [
    {
     "name": "stdout",
     "output_type": "stream",
     "text": [
      "f1_micro: 85.519%\n",
      "\n",
      "Accuracy : 85.519%\n",
      "\n",
      "Precision : 85.519%\n",
      "\n",
      "Recall : 85.519%\n",
      "\n"
     ]
    }
   ],
   "source": [
    "preds = model.predict(X_test)\n",
    "Acc_score = accuracy_score(y_test, preds) * 100 #* 100 for procent\n",
    "print(f'Accuracy : {Acc_score:.3f}%\\n')"
   ]
  },
  {
   "cell_type": "code",
   "execution_count": 76,
   "metadata": {
    "scrolled": false
   },
   "outputs": [
    {
     "name": "stdout",
     "output_type": "stream",
     "text": [
      "[[264   1  27   8   1   5   3   1   6   3]\n",
      " [  0 295   1   0   0   7   0   1   1   3]\n",
      " [ 21   1 225   7   0  19   2   2   5   7]\n",
      " [  3   0  13 249   6   1   4  14   6   5]\n",
      " [  6   0   6   6 268   0   4  10   7   3]\n",
      " [  4  16  15   0   0 246   1   1   0   0]\n",
      " [  2   2   5   0   4   1 277   1   2   9]\n",
      " [  1   0  10   7   4   4   1 232   5   4]\n",
      " [  4   2   9   6   5   7   1   4 271   6]\n",
      " [  6   4  18  13   1   3  11   3   6 236]]\n"
     ]
    },
    {
     "data": {
      "text/plain": [
       "<matplotlib.axes._subplots.AxesSubplot at 0x25d05e2c160>"
      ]
     },
     "execution_count": 76,
     "metadata": {},
     "output_type": "execute_result"
    },
    {
     "data": {
      "image/png": "[encoded data removed]",
      "text/plain": [
       "<Figure size 1152x1152 with 2 Axes>"
      ]
     },
     "metadata": {
      "needs_background": "light"
     },
     "output_type": "display_data"
    }
   ],
   "source": [
    "#Confusion matrix\n",
    "#Seaborn for pretty heatmap :D\n",
    "import seaborn as sns \n",
    "#https://medium.com/@dtuk81/confusion-matrix-visualization-fc31e3f30fea\n",
    "\n",
    "\n",
    "conf_m = confusion_matrix(y_test,preds)\n",
    "print(conf_m)\n",
    "\n",
    "plt.figure(figsize = (16,16))\n",
    "labels = [\"blues\", \"classical\", \"country\", \"disco\",\"hiphop\", \"jazz\", \"metal\", \"pop\", \"reggae\", \"rock\"] \n",
    "sns.heatmap(conf_m,annot=True,cmap='OrRd',xticklabels=labels,yticklabels=labels)"
   ]
  },
  {
   "cell_type": "code",
   "execution_count": 117,
   "metadata": {},
   "outputs": [
    {
     "ename": "NotImplementedError",
     "evalue": "",
     "output_type": "error",
     "traceback": [
      "\u001b[1;31m---------------------------------------------------------------------------\u001b[0m",
      "\u001b[1;31mNotImplementedError\u001b[0m                       Traceback (most recent call last)",
      "\u001b[1;32m<ipython-input-117-f09595f40278>\u001b[0m in \u001b[0;36m<module>\u001b[1;34m\u001b[0m\n\u001b[0;32m      1\u001b[0m \u001b[0mpathtofile\u001b[0m \u001b[1;33m=\u001b[0m \u001b[1;34m\"C:/Users/jonas/AU/s5/MAL/opgaver/jazz2.wav\"\u001b[0m\u001b[1;33m\u001b[0m\u001b[1;33m\u001b[0m\u001b[0m\n\u001b[1;32m----> 2\u001b[1;33m \u001b[0my\u001b[0m\u001b[1;33m,\u001b[0m \u001b[0msr\u001b[0m \u001b[1;33m=\u001b[0m \u001b[0mlibrosa\u001b[0m\u001b[1;33m.\u001b[0m\u001b[0mload\u001b[0m\u001b[1;33m(\u001b[0m\u001b[0mpathtofile\u001b[0m\u001b[1;33m,\u001b[0m\u001b[0mduration\u001b[0m\u001b[1;33m=\u001b[0m\u001b[1;36m30\u001b[0m\u001b[1;33m)\u001b[0m\u001b[1;33m\u001b[0m\u001b[1;33m\u001b[0m\u001b[0m\n\u001b[0m\u001b[0;32m      3\u001b[0m \u001b[1;33m\u001b[0m\u001b[0m\n\u001b[0;32m      4\u001b[0m     \u001b[1;31m#Removing silence\u001b[0m\u001b[1;33m\u001b[0m\u001b[1;33m\u001b[0m\u001b[1;33m\u001b[0m\u001b[0m\n\u001b[0;32m      5\u001b[0m \u001b[0my_trimmed\u001b[0m\u001b[1;33m,\u001b[0m\u001b[0m_\u001b[0m \u001b[1;33m=\u001b[0m \u001b[0mlibrosa\u001b[0m\u001b[1;33m.\u001b[0m\u001b[0meffects\u001b[0m\u001b[1;33m.\u001b[0m\u001b[0mtrim\u001b[0m\u001b[1;33m(\u001b[0m\u001b[0my\u001b[0m\u001b[1;33m)\u001b[0m\u001b[1;33m\u001b[0m\u001b[1;33m\u001b[0m\u001b[0m\n",
      "\u001b[1;32m~\\anaconda3\\lib\\site-packages\\librosa\\core\\audio.py\u001b[0m in \u001b[0;36mload\u001b[1;34m(path, sr, mono, offset, duration, dtype, res_type)\u001b[0m\n\u001b[0;32m    170\u001b[0m \u001b[1;33m\u001b[0m\u001b[0m\n\u001b[0;32m    171\u001b[0m     \u001b[1;32mif\u001b[0m \u001b[0msr\u001b[0m \u001b[1;32mis\u001b[0m \u001b[1;32mnot\u001b[0m \u001b[1;32mNone\u001b[0m\u001b[1;33m:\u001b[0m\u001b[1;33m\u001b[0m\u001b[1;33m\u001b[0m\u001b[0m\n\u001b[1;32m--> 172\u001b[1;33m         \u001b[0my\u001b[0m \u001b[1;33m=\u001b[0m \u001b[0mresample\u001b[0m\u001b[1;33m(\u001b[0m\u001b[0my\u001b[0m\u001b[1;33m,\u001b[0m \u001b[0msr_native\u001b[0m\u001b[1;33m,\u001b[0m \u001b[0msr\u001b[0m\u001b[1;33m,\u001b[0m \u001b[0mres_type\u001b[0m\u001b[1;33m=\u001b[0m\u001b[0mres_type\u001b[0m\u001b[1;33m)\u001b[0m\u001b[1;33m\u001b[0m\u001b[1;33m\u001b[0m\u001b[0m\n\u001b[0m\u001b[0;32m    173\u001b[0m \u001b[1;33m\u001b[0m\u001b[0m\n\u001b[0;32m    174\u001b[0m     \u001b[1;32melse\u001b[0m\u001b[1;33m:\u001b[0m\u001b[1;33m\u001b[0m\u001b[1;33m\u001b[0m\u001b[0m\n",
      "\u001b[1;32m~\\anaconda3\\lib\\site-packages\\librosa\\core\\audio.py\u001b[0m in \u001b[0;36mresample\u001b[1;34m(y, orig_sr, target_sr, res_type, fix, scale, **kwargs)\u001b[0m\n\u001b[0;32m    582\u001b[0m         \u001b[0my_hat\u001b[0m \u001b[1;33m=\u001b[0m \u001b[0msamplerate\u001b[0m\u001b[1;33m.\u001b[0m\u001b[0mresample\u001b[0m\u001b[1;33m(\u001b[0m\u001b[0my\u001b[0m\u001b[1;33m.\u001b[0m\u001b[0mT\u001b[0m\u001b[1;33m,\u001b[0m \u001b[0mratio\u001b[0m\u001b[1;33m,\u001b[0m \u001b[0mconverter_type\u001b[0m\u001b[1;33m=\u001b[0m\u001b[0mres_type\u001b[0m\u001b[1;33m)\u001b[0m\u001b[1;33m.\u001b[0m\u001b[0mT\u001b[0m\u001b[1;33m\u001b[0m\u001b[1;33m\u001b[0m\u001b[0m\n\u001b[0;32m    583\u001b[0m     \u001b[1;32melse\u001b[0m\u001b[1;33m:\u001b[0m\u001b[1;33m\u001b[0m\u001b[1;33m\u001b[0m\u001b[0m\n\u001b[1;32m--> 584\u001b[1;33m         \u001b[0my_hat\u001b[0m \u001b[1;33m=\u001b[0m \u001b[0mresampy\u001b[0m\u001b[1;33m.\u001b[0m\u001b[0mresample\u001b[0m\u001b[1;33m(\u001b[0m\u001b[0my\u001b[0m\u001b[1;33m,\u001b[0m \u001b[0morig_sr\u001b[0m\u001b[1;33m,\u001b[0m \u001b[0mtarget_sr\u001b[0m\u001b[1;33m,\u001b[0m \u001b[0mfilter\u001b[0m\u001b[1;33m=\u001b[0m\u001b[0mres_type\u001b[0m\u001b[1;33m,\u001b[0m \u001b[0maxis\u001b[0m\u001b[1;33m=\u001b[0m\u001b[1;33m-\u001b[0m\u001b[1;36m1\u001b[0m\u001b[1;33m)\u001b[0m\u001b[1;33m\u001b[0m\u001b[1;33m\u001b[0m\u001b[0m\n\u001b[0m\u001b[0;32m    585\u001b[0m \u001b[1;33m\u001b[0m\u001b[0m\n\u001b[0;32m    586\u001b[0m     \u001b[1;32mif\u001b[0m \u001b[0mfix\u001b[0m\u001b[1;33m:\u001b[0m\u001b[1;33m\u001b[0m\u001b[1;33m\u001b[0m\u001b[0m\n",
      "\u001b[1;32m~\\anaconda3\\lib\\site-packages\\resampy\\core.py\u001b[0m in \u001b[0;36mresample\u001b[1;34m(x, sr_orig, sr_new, axis, filter, **kwargs)\u001b[0m\n\u001b[0;32m    118\u001b[0m     \u001b[0mx_2d\u001b[0m \u001b[1;33m=\u001b[0m \u001b[0mx\u001b[0m\u001b[1;33m.\u001b[0m\u001b[0mswapaxes\u001b[0m\u001b[1;33m(\u001b[0m\u001b[1;36m0\u001b[0m\u001b[1;33m,\u001b[0m \u001b[0maxis\u001b[0m\u001b[1;33m)\u001b[0m\u001b[1;33m.\u001b[0m\u001b[0mreshape\u001b[0m\u001b[1;33m(\u001b[0m\u001b[1;33m(\u001b[0m\u001b[0mx\u001b[0m\u001b[1;33m.\u001b[0m\u001b[0mshape\u001b[0m\u001b[1;33m[\u001b[0m\u001b[0maxis\u001b[0m\u001b[1;33m]\u001b[0m\u001b[1;33m,\u001b[0m \u001b[1;33m-\u001b[0m\u001b[1;36m1\u001b[0m\u001b[1;33m)\u001b[0m\u001b[1;33m)\u001b[0m\u001b[1;33m\u001b[0m\u001b[1;33m\u001b[0m\u001b[0m\n\u001b[0;32m    119\u001b[0m     \u001b[0my_2d\u001b[0m \u001b[1;33m=\u001b[0m \u001b[0my\u001b[0m\u001b[1;33m.\u001b[0m\u001b[0mswapaxes\u001b[0m\u001b[1;33m(\u001b[0m\u001b[1;36m0\u001b[0m\u001b[1;33m,\u001b[0m \u001b[0maxis\u001b[0m\u001b[1;33m)\u001b[0m\u001b[1;33m.\u001b[0m\u001b[0mreshape\u001b[0m\u001b[1;33m(\u001b[0m\u001b[1;33m(\u001b[0m\u001b[0my\u001b[0m\u001b[1;33m.\u001b[0m\u001b[0mshape\u001b[0m\u001b[1;33m[\u001b[0m\u001b[0maxis\u001b[0m\u001b[1;33m]\u001b[0m\u001b[1;33m,\u001b[0m \u001b[1;33m-\u001b[0m\u001b[1;36m1\u001b[0m\u001b[1;33m)\u001b[0m\u001b[1;33m)\u001b[0m\u001b[1;33m\u001b[0m\u001b[1;33m\u001b[0m\u001b[0m\n\u001b[1;32m--> 120\u001b[1;33m     \u001b[0mresample_f\u001b[0m\u001b[1;33m(\u001b[0m\u001b[0mx_2d\u001b[0m\u001b[1;33m,\u001b[0m \u001b[0my_2d\u001b[0m\u001b[1;33m,\u001b[0m \u001b[0msample_ratio\u001b[0m\u001b[1;33m,\u001b[0m \u001b[0minterp_win\u001b[0m\u001b[1;33m,\u001b[0m \u001b[0minterp_delta\u001b[0m\u001b[1;33m,\u001b[0m \u001b[0mprecision\u001b[0m\u001b[1;33m)\u001b[0m\u001b[1;33m\u001b[0m\u001b[1;33m\u001b[0m\u001b[0m\n\u001b[0m\u001b[0;32m    121\u001b[0m \u001b[1;33m\u001b[0m\u001b[0m\n\u001b[0;32m    122\u001b[0m     \u001b[1;32mreturn\u001b[0m \u001b[0my\u001b[0m\u001b[1;33m\u001b[0m\u001b[1;33m\u001b[0m\u001b[0m\n",
      "\u001b[1;32m~\\anaconda3\\lib\\site-packages\\numba\\core\\dispatcher.py\u001b[0m in \u001b[0;36m_compile_for_args\u001b[1;34m(self, *args, **kws)\u001b[0m\n\u001b[0;32m    432\u001b[0m                     \u001b[0me\u001b[0m\u001b[1;33m.\u001b[0m\u001b[0mpatch_message\u001b[0m\u001b[1;33m(\u001b[0m\u001b[1;34m'\\n'\u001b[0m\u001b[1;33m.\u001b[0m\u001b[0mjoin\u001b[0m\u001b[1;33m(\u001b[0m\u001b[1;33m(\u001b[0m\u001b[0mstr\u001b[0m\u001b[1;33m(\u001b[0m\u001b[0me\u001b[0m\u001b[1;33m)\u001b[0m\u001b[1;33m.\u001b[0m\u001b[0mrstrip\u001b[0m\u001b[1;33m(\u001b[0m\u001b[1;33m)\u001b[0m\u001b[1;33m,\u001b[0m \u001b[0mhelp_msg\u001b[0m\u001b[1;33m)\u001b[0m\u001b[1;33m)\u001b[0m\u001b[1;33m)\u001b[0m\u001b[1;33m\u001b[0m\u001b[1;33m\u001b[0m\u001b[0m\n\u001b[0;32m    433\u001b[0m             \u001b[1;31m# ignore the FULL_TRACEBACKS config, this needs reporting!\u001b[0m\u001b[1;33m\u001b[0m\u001b[1;33m\u001b[0m\u001b[1;33m\u001b[0m\u001b[0m\n\u001b[1;32m--> 434\u001b[1;33m             \u001b[1;32mraise\u001b[0m \u001b[0me\u001b[0m\u001b[1;33m\u001b[0m\u001b[1;33m\u001b[0m\u001b[0m\n\u001b[0m\u001b[0;32m    435\u001b[0m \u001b[1;33m\u001b[0m\u001b[0m\n\u001b[0;32m    436\u001b[0m     \u001b[1;32mdef\u001b[0m \u001b[0minspect_llvm\u001b[0m\u001b[1;33m(\u001b[0m\u001b[0mself\u001b[0m\u001b[1;33m,\u001b[0m \u001b[0msignature\u001b[0m\u001b[1;33m=\u001b[0m\u001b[1;32mNone\u001b[0m\u001b[1;33m)\u001b[0m\u001b[1;33m:\u001b[0m\u001b[1;33m\u001b[0m\u001b[1;33m\u001b[0m\u001b[0m\n",
      "\u001b[1;32m~\\anaconda3\\lib\\site-packages\\numba\\core\\dispatcher.py\u001b[0m in \u001b[0;36m_compile_for_args\u001b[1;34m(self, *args, **kws)\u001b[0m\n\u001b[0;32m    365\u001b[0m                 \u001b[0margtypes\u001b[0m\u001b[1;33m.\u001b[0m\u001b[0mappend\u001b[0m\u001b[1;33m(\u001b[0m\u001b[0mself\u001b[0m\u001b[1;33m.\u001b[0m\u001b[0mtypeof_pyval\u001b[0m\u001b[1;33m(\u001b[0m\u001b[0ma\u001b[0m\u001b[1;33m)\u001b[0m\u001b[1;33m)\u001b[0m\u001b[1;33m\u001b[0m\u001b[1;33m\u001b[0m\u001b[0m\n\u001b[0;32m    366\u001b[0m         \u001b[1;32mtry\u001b[0m\u001b[1;33m:\u001b[0m\u001b[1;33m\u001b[0m\u001b[1;33m\u001b[0m\u001b[0m\n\u001b[1;32m--> 367\u001b[1;33m             \u001b[1;32mreturn\u001b[0m \u001b[0mself\u001b[0m\u001b[1;33m.\u001b[0m\u001b[0mcompile\u001b[0m\u001b[1;33m(\u001b[0m\u001b[0mtuple\u001b[0m\u001b[1;33m(\u001b[0m\u001b[0margtypes\u001b[0m\u001b[1;33m)\u001b[0m\u001b[1;33m)\u001b[0m\u001b[1;33m\u001b[0m\u001b[1;33m\u001b[0m\u001b[0m\n\u001b[0m\u001b[0;32m    368\u001b[0m         \u001b[1;32mexcept\u001b[0m \u001b[0merrors\u001b[0m\u001b[1;33m.\u001b[0m\u001b[0mForceLiteralArg\u001b[0m \u001b[1;32mas\u001b[0m \u001b[0me\u001b[0m\u001b[1;33m:\u001b[0m\u001b[1;33m\u001b[0m\u001b[1;33m\u001b[0m\u001b[0m\n\u001b[0;32m    369\u001b[0m             \u001b[1;31m# Received request for compiler re-entry with the list of arguments\u001b[0m\u001b[1;33m\u001b[0m\u001b[1;33m\u001b[0m\u001b[1;33m\u001b[0m\u001b[0m\n",
      "\u001b[1;32m~\\anaconda3\\lib\\site-packages\\numba\\core\\compiler_lock.py\u001b[0m in \u001b[0;36m_acquire_compile_lock\u001b[1;34m(*args, **kwargs)\u001b[0m\n\u001b[0;32m     30\u001b[0m         \u001b[1;32mdef\u001b[0m \u001b[0m_acquire_compile_lock\u001b[0m\u001b[1;33m(\u001b[0m\u001b[1;33m*\u001b[0m\u001b[0margs\u001b[0m\u001b[1;33m,\u001b[0m \u001b[1;33m**\u001b[0m\u001b[0mkwargs\u001b[0m\u001b[1;33m)\u001b[0m\u001b[1;33m:\u001b[0m\u001b[1;33m\u001b[0m\u001b[1;33m\u001b[0m\u001b[0m\n\u001b[0;32m     31\u001b[0m             \u001b[1;32mwith\u001b[0m \u001b[0mself\u001b[0m\u001b[1;33m:\u001b[0m\u001b[1;33m\u001b[0m\u001b[1;33m\u001b[0m\u001b[0m\n\u001b[1;32m---> 32\u001b[1;33m                 \u001b[1;32mreturn\u001b[0m \u001b[0mfunc\u001b[0m\u001b[1;33m(\u001b[0m\u001b[1;33m*\u001b[0m\u001b[0margs\u001b[0m\u001b[1;33m,\u001b[0m \u001b[1;33m**\u001b[0m\u001b[0mkwargs\u001b[0m\u001b[1;33m)\u001b[0m\u001b[1;33m\u001b[0m\u001b[1;33m\u001b[0m\u001b[0m\n\u001b[0m\u001b[0;32m     33\u001b[0m         \u001b[1;32mreturn\u001b[0m \u001b[0m_acquire_compile_lock\u001b[0m\u001b[1;33m\u001b[0m\u001b[1;33m\u001b[0m\u001b[0m\n\u001b[0;32m     34\u001b[0m \u001b[1;33m\u001b[0m\u001b[0m\n",
      "\u001b[1;32m~\\anaconda3\\lib\\site-packages\\numba\\core\\dispatcher.py\u001b[0m in \u001b[0;36mcompile\u001b[1;34m(self, sig)\u001b[0m\n\u001b[0;32m    806\u001b[0m             \u001b[0mself\u001b[0m\u001b[1;33m.\u001b[0m\u001b[0m_cache_misses\u001b[0m\u001b[1;33m[\u001b[0m\u001b[0msig\u001b[0m\u001b[1;33m]\u001b[0m \u001b[1;33m+=\u001b[0m \u001b[1;36m1\u001b[0m\u001b[1;33m\u001b[0m\u001b[1;33m\u001b[0m\u001b[0m\n\u001b[0;32m    807\u001b[0m             \u001b[1;32mtry\u001b[0m\u001b[1;33m:\u001b[0m\u001b[1;33m\u001b[0m\u001b[1;33m\u001b[0m\u001b[0m\n\u001b[1;32m--> 808\u001b[1;33m                 \u001b[0mcres\u001b[0m \u001b[1;33m=\u001b[0m \u001b[0mself\u001b[0m\u001b[1;33m.\u001b[0m\u001b[0m_compiler\u001b[0m\u001b[1;33m.\u001b[0m\u001b[0mcompile\u001b[0m\u001b[1;33m(\u001b[0m\u001b[0margs\u001b[0m\u001b[1;33m,\u001b[0m \u001b[0mreturn_type\u001b[0m\u001b[1;33m)\u001b[0m\u001b[1;33m\u001b[0m\u001b[1;33m\u001b[0m\u001b[0m\n\u001b[0m\u001b[0;32m    809\u001b[0m             \u001b[1;32mexcept\u001b[0m \u001b[0merrors\u001b[0m\u001b[1;33m.\u001b[0m\u001b[0mForceLiteralArg\u001b[0m \u001b[1;32mas\u001b[0m \u001b[0me\u001b[0m\u001b[1;33m:\u001b[0m\u001b[1;33m\u001b[0m\u001b[1;33m\u001b[0m\u001b[0m\n\u001b[0;32m    810\u001b[0m                 \u001b[1;32mdef\u001b[0m \u001b[0mfolded\u001b[0m\u001b[1;33m(\u001b[0m\u001b[0margs\u001b[0m\u001b[1;33m,\u001b[0m \u001b[0mkws\u001b[0m\u001b[1;33m)\u001b[0m\u001b[1;33m:\u001b[0m\u001b[1;33m\u001b[0m\u001b[1;33m\u001b[0m\u001b[0m\n",
      "\u001b[1;32m~\\anaconda3\\lib\\site-packages\\numba\\core\\dispatcher.py\u001b[0m in \u001b[0;36mcompile\u001b[1;34m(self, args, return_type)\u001b[0m\n\u001b[0;32m     76\u001b[0m \u001b[1;33m\u001b[0m\u001b[0m\n\u001b[0;32m     77\u001b[0m     \u001b[1;32mdef\u001b[0m \u001b[0mcompile\u001b[0m\u001b[1;33m(\u001b[0m\u001b[0mself\u001b[0m\u001b[1;33m,\u001b[0m \u001b[0margs\u001b[0m\u001b[1;33m,\u001b[0m \u001b[0mreturn_type\u001b[0m\u001b[1;33m)\u001b[0m\u001b[1;33m:\u001b[0m\u001b[1;33m\u001b[0m\u001b[1;33m\u001b[0m\u001b[0m\n\u001b[1;32m---> 78\u001b[1;33m         \u001b[0mstatus\u001b[0m\u001b[1;33m,\u001b[0m \u001b[0mretval\u001b[0m \u001b[1;33m=\u001b[0m \u001b[0mself\u001b[0m\u001b[1;33m.\u001b[0m\u001b[0m_compile_cached\u001b[0m\u001b[1;33m(\u001b[0m\u001b[0margs\u001b[0m\u001b[1;33m,\u001b[0m \u001b[0mreturn_type\u001b[0m\u001b[1;33m)\u001b[0m\u001b[1;33m\u001b[0m\u001b[1;33m\u001b[0m\u001b[0m\n\u001b[0m\u001b[0;32m     79\u001b[0m         \u001b[1;32mif\u001b[0m \u001b[0mstatus\u001b[0m\u001b[1;33m:\u001b[0m\u001b[1;33m\u001b[0m\u001b[1;33m\u001b[0m\u001b[0m\n\u001b[0;32m     80\u001b[0m             \u001b[1;32mreturn\u001b[0m \u001b[0mretval\u001b[0m\u001b[1;33m\u001b[0m\u001b[1;33m\u001b[0m\u001b[0m\n",
      "\u001b[1;32m~\\anaconda3\\lib\\site-packages\\numba\\core\\dispatcher.py\u001b[0m in \u001b[0;36m_compile_cached\u001b[1;34m(self, args, return_type)\u001b[0m\n\u001b[0;32m     90\u001b[0m \u001b[1;33m\u001b[0m\u001b[0m\n\u001b[0;32m     91\u001b[0m         \u001b[1;32mtry\u001b[0m\u001b[1;33m:\u001b[0m\u001b[1;33m\u001b[0m\u001b[1;33m\u001b[0m\u001b[0m\n\u001b[1;32m---> 92\u001b[1;33m             \u001b[0mretval\u001b[0m \u001b[1;33m=\u001b[0m \u001b[0mself\u001b[0m\u001b[1;33m.\u001b[0m\u001b[0m_compile_core\u001b[0m\u001b[1;33m(\u001b[0m\u001b[0margs\u001b[0m\u001b[1;33m,\u001b[0m \u001b[0mreturn_type\u001b[0m\u001b[1;33m)\u001b[0m\u001b[1;33m\u001b[0m\u001b[1;33m\u001b[0m\u001b[0m\n\u001b[0m\u001b[0;32m     93\u001b[0m         \u001b[1;32mexcept\u001b[0m \u001b[0merrors\u001b[0m\u001b[1;33m.\u001b[0m\u001b[0mTypingError\u001b[0m \u001b[1;32mas\u001b[0m \u001b[0me\u001b[0m\u001b[1;33m:\u001b[0m\u001b[1;33m\u001b[0m\u001b[1;33m\u001b[0m\u001b[0m\n\u001b[0;32m     94\u001b[0m             \u001b[0mself\u001b[0m\u001b[1;33m.\u001b[0m\u001b[0m_failed_cache\u001b[0m\u001b[1;33m[\u001b[0m\u001b[0mkey\u001b[0m\u001b[1;33m]\u001b[0m \u001b[1;33m=\u001b[0m \u001b[0me\u001b[0m\u001b[1;33m\u001b[0m\u001b[1;33m\u001b[0m\u001b[0m\n",
      "\u001b[1;32m~\\anaconda3\\lib\\site-packages\\numba\\core\\dispatcher.py\u001b[0m in \u001b[0;36m_compile_core\u001b[1;34m(self, args, return_type)\u001b[0m\n\u001b[0;32m    103\u001b[0m \u001b[1;33m\u001b[0m\u001b[0m\n\u001b[0;32m    104\u001b[0m         \u001b[0mimpl\u001b[0m \u001b[1;33m=\u001b[0m \u001b[0mself\u001b[0m\u001b[1;33m.\u001b[0m\u001b[0m_get_implementation\u001b[0m\u001b[1;33m(\u001b[0m\u001b[0margs\u001b[0m\u001b[1;33m,\u001b[0m \u001b[1;33m{\u001b[0m\u001b[1;33m}\u001b[0m\u001b[1;33m)\u001b[0m\u001b[1;33m\u001b[0m\u001b[1;33m\u001b[0m\u001b[0m\n\u001b[1;32m--> 105\u001b[1;33m         cres = compiler.compile_extra(self.targetdescr.typing_context,\n\u001b[0m\u001b[0;32m    106\u001b[0m                                       \u001b[0mself\u001b[0m\u001b[1;33m.\u001b[0m\u001b[0mtargetdescr\u001b[0m\u001b[1;33m.\u001b[0m\u001b[0mtarget_context\u001b[0m\u001b[1;33m,\u001b[0m\u001b[1;33m\u001b[0m\u001b[1;33m\u001b[0m\u001b[0m\n\u001b[0;32m    107\u001b[0m                                       \u001b[0mimpl\u001b[0m\u001b[1;33m,\u001b[0m\u001b[1;33m\u001b[0m\u001b[1;33m\u001b[0m\u001b[0m\n",
      "\u001b[1;32m~\\anaconda3\\lib\\site-packages\\numba\\core\\compiler.py\u001b[0m in \u001b[0;36mcompile_extra\u001b[1;34m(typingctx, targetctx, func, args, return_type, flags, locals, library, pipeline_class)\u001b[0m\n\u001b[0;32m    599\u001b[0m         \u001b[0mcompiler\u001b[0m \u001b[0mpipeline\u001b[0m\u001b[1;33m\u001b[0m\u001b[1;33m\u001b[0m\u001b[0m\n\u001b[0;32m    600\u001b[0m     \"\"\"\n\u001b[1;32m--> 601\u001b[1;33m     pipeline = pipeline_class(typingctx, targetctx, library,\n\u001b[0m\u001b[0;32m    602\u001b[0m                               args, return_type, flags, locals)\n\u001b[0;32m    603\u001b[0m     \u001b[1;32mreturn\u001b[0m \u001b[0mpipeline\u001b[0m\u001b[1;33m.\u001b[0m\u001b[0mcompile_extra\u001b[0m\u001b[1;33m(\u001b[0m\u001b[0mfunc\u001b[0m\u001b[1;33m)\u001b[0m\u001b[1;33m\u001b[0m\u001b[1;33m\u001b[0m\u001b[0m\n",
      "\u001b[1;32m~\\anaconda3\\lib\\site-packages\\numba\\core\\compiler.py\u001b[0m in \u001b[0;36m__init__\u001b[1;34m(self, typingctx, targetctx, library, args, return_type, flags, locals)\u001b[0m\n\u001b[0;32m    286\u001b[0m         \u001b[1;31m# Make sure the environment is reloaded\u001b[0m\u001b[1;33m\u001b[0m\u001b[1;33m\u001b[0m\u001b[1;33m\u001b[0m\u001b[0m\n\u001b[0;32m    287\u001b[0m         \u001b[0mconfig\u001b[0m\u001b[1;33m.\u001b[0m\u001b[0mreload_config\u001b[0m\u001b[1;33m(\u001b[0m\u001b[1;33m)\u001b[0m\u001b[1;33m\u001b[0m\u001b[1;33m\u001b[0m\u001b[0m\n\u001b[1;32m--> 288\u001b[1;33m         \u001b[0mtypingctx\u001b[0m\u001b[1;33m.\u001b[0m\u001b[0mrefresh\u001b[0m\u001b[1;33m(\u001b[0m\u001b[1;33m)\u001b[0m\u001b[1;33m\u001b[0m\u001b[1;33m\u001b[0m\u001b[0m\n\u001b[0m\u001b[0;32m    289\u001b[0m         \u001b[0mtargetctx\u001b[0m\u001b[1;33m.\u001b[0m\u001b[0mrefresh\u001b[0m\u001b[1;33m(\u001b[0m\u001b[1;33m)\u001b[0m\u001b[1;33m\u001b[0m\u001b[1;33m\u001b[0m\u001b[0m\n\u001b[0;32m    290\u001b[0m \u001b[1;33m\u001b[0m\u001b[0m\n",
      "\u001b[1;32m~\\anaconda3\\lib\\site-packages\\numba\\core\\typing\\context.py\u001b[0m in \u001b[0;36mrefresh\u001b[1;34m(self)\u001b[0m\n\u001b[0;32m    154\u001b[0m         \u001b[0mUseful\u001b[0m \u001b[1;32mfor\u001b[0m \u001b[0mthird\u001b[0m\u001b[1;33m-\u001b[0m\u001b[0mparty\u001b[0m \u001b[0mextensions\u001b[0m\u001b[1;33m.\u001b[0m\u001b[1;33m\u001b[0m\u001b[1;33m\u001b[0m\u001b[0m\n\u001b[0;32m    155\u001b[0m         \"\"\"\n\u001b[1;32m--> 156\u001b[1;33m         \u001b[0mself\u001b[0m\u001b[1;33m.\u001b[0m\u001b[0mload_additional_registries\u001b[0m\u001b[1;33m(\u001b[0m\u001b[1;33m)\u001b[0m\u001b[1;33m\u001b[0m\u001b[1;33m\u001b[0m\u001b[0m\n\u001b[0m\u001b[0;32m    157\u001b[0m         \u001b[1;31m# Some extensions may have augmented the builtin registry\u001b[0m\u001b[1;33m\u001b[0m\u001b[1;33m\u001b[0m\u001b[1;33m\u001b[0m\u001b[0m\n\u001b[0;32m    158\u001b[0m         \u001b[0mself\u001b[0m\u001b[1;33m.\u001b[0m\u001b[0m_load_builtins\u001b[0m\u001b[1;33m(\u001b[0m\u001b[1;33m)\u001b[0m\u001b[1;33m\u001b[0m\u001b[1;33m\u001b[0m\u001b[0m\n",
      "\u001b[1;32m~\\anaconda3\\lib\\site-packages\\numba\\core\\typing\\context.py\u001b[0m in \u001b[0;36mload_additional_registries\u001b[1;34m(self)\u001b[0m\n\u001b[0;32m    685\u001b[0m \u001b[1;33m\u001b[0m\u001b[0m\n\u001b[0;32m    686\u001b[0m     \u001b[1;32mdef\u001b[0m \u001b[0mload_additional_registries\u001b[0m\u001b[1;33m(\u001b[0m\u001b[0mself\u001b[0m\u001b[1;33m)\u001b[0m\u001b[1;33m:\u001b[0m\u001b[1;33m\u001b[0m\u001b[1;33m\u001b[0m\u001b[0m\n\u001b[1;32m--> 687\u001b[1;33m         from . import (\n\u001b[0m\u001b[0;32m    688\u001b[0m             \u001b[0mcffi_utils\u001b[0m\u001b[1;33m,\u001b[0m\u001b[1;33m\u001b[0m\u001b[1;33m\u001b[0m\u001b[0m\n\u001b[0;32m    689\u001b[0m             \u001b[0mcmathdecl\u001b[0m\u001b[1;33m,\u001b[0m\u001b[1;33m\u001b[0m\u001b[1;33m\u001b[0m\u001b[0m\n",
      "\u001b[1;32m~\\anaconda3\\lib\\importlib\\_bootstrap.py\u001b[0m in \u001b[0;36m_find_and_load\u001b[1;34m(name, import_)\u001b[0m\n",
      "\u001b[1;32m~\\anaconda3\\lib\\importlib\\_bootstrap.py\u001b[0m in \u001b[0;36m_find_and_load_unlocked\u001b[1;34m(name, import_)\u001b[0m\n",
      "\u001b[1;32m~\\anaconda3\\lib\\importlib\\_bootstrap.py\u001b[0m in \u001b[0;36m_load_unlocked\u001b[1;34m(spec)\u001b[0m\n",
      "\u001b[1;32m~\\anaconda3\\lib\\importlib\\_bootstrap.py\u001b[0m in \u001b[0;36mmodule_from_spec\u001b[1;34m(spec)\u001b[0m\n",
      "\u001b[1;32m~\\anaconda3\\lib\\importlib\\_bootstrap.py\u001b[0m in \u001b[0;36m_init_module_attrs\u001b[1;34m(spec, module, override)\u001b[0m\n",
      "\u001b[1;32m~\\anaconda3\\lib\\importlib\\_bootstrap.py\u001b[0m in \u001b[0;36mcached\u001b[1;34m(self)\u001b[0m\n",
      "\u001b[1;31mNotImplementedError\u001b[0m: "
     ]
    }
   ],
   "source": [
    "pathtofile = \"C:/Users/jonas/AU/s5/MAL/opgaver/jazz2.wav\"\n",
    "y, sr = librosa.load(pathtofile,duration=30)\n",
    "\n",
    "    #Removing silence\n",
    "y_trimmed,_ = librosa.effects.trim(y)\n",
    "                \n",
    "    #zero crossing\n",
    "zeroX = librosa.feature.zero_crossing_rate(y_trimmed,pad=False)\n",
    "zeroX_mean = zeroX.mean()\n",
    "zeroX_var = zeroX.var()\n",
    "                \n",
    "                \n",
    "    #harmony & perceptrual\n",
    "harm, perc = librosa.effects.hpss(y_trimmed)\n",
    "harm_mean = harm.mean()\n",
    "harm_var = harm.var()\n",
    "perc_mean = perc.mean()\n",
    "perc_var = perc.var()\n",
    "                \n",
    "    #Tempo\n",
    "tempo,_ = librosa.beat.beat_track(y=y,sr=sr)\n",
    "               \n",
    "    #Centroid\n",
    "centroid = librosa.feature.spectral_centroid(y=y_trimmed,sr=sr)[0]\n",
    "centroid_mean = centroid.mean()\n",
    "centroid_var = centroid.var()\n",
    "                \n",
    "    #Rolloff\n",
    "rolloff = librosa.feature.spectral_rolloff(y=y_trimmed,sr=sr)[0]\n",
    "rolloff_mean = rolloff.mean()\n",
    "rolloff_var = rolloff.var()\n",
    "                \n",
    "    #Chroma frequencies\n",
    "chroma = librosa.feature.chroma_stft(y=y_trimmed,sr=sr)\n",
    "chroma_mean = chroma.mean()\n",
    "chroma_var = chroma.var()\n",
    "            \n",
    "    #RMS\n",
    "rms = librosa.feature.rms(y)\n",
    "rms_mean = rms.mean()\n",
    "rms_var = rms.var()\n",
    "            \n",
    "    #spectral bandwidth\n",
    "bandwidth = librosa.feature.spectral_bandwidth(y,sr)\n",
    "bandwidth_mean = bandwidth.mean()\n",
    "bandwidth_var = bandwidth.var()\n",
    "            \n",
    "\n",
    "            \n",
    "    # MFCC treatment\n",
    "for i in range(20):\n",
    "    mfcc  = librosa.feature.mfcc(y, sr, n_mfcc=i+1)\n",
    "    mfcc_mean = mfcc.mean()\n",
    "    mfcc_var = mfcc.var()\n",
    "    feat1 = f\"mfcc{i+1}_mean\"\n",
    "    feat2 = f\"mfcc{i+1}_var\"\n",
    "    features[feat1].append(np.mean(mfcc_mean))\n",
    "    features[feat2].append(np.mean(mfcc_var))\n",
    "            \n",
    "\n",
    "                \n",
    "                \n",
    "        #adding features\n",
    "features['classlabel'].append(\"\")\n",
    "features['zero_crossing_mean'].append(zeroX_mean)\n",
    "features['zero_crossing_var'].append(zeroX_var)\n",
    "features['harmony_mean'].append(harm_mean)\n",
    "features['harmony_var'].append(harm_var)\n",
    "features['perceptrual_mean'].append(perc_mean)\n",
    "features['perceptrual_var'].append(perc_var)\n",
    "features['tempo'].append(tempo)\n",
    "features['centroid_mean'].append(centroid_mean)\n",
    "features['centroid_var'].append(centroid_var)\n",
    "features['rolloff_mean'].append(rolloff_mean)\n",
    "features['rolloff_var'].append(rolloff_mean)\n",
    "features['chroma_stft_mean'].append(chroma_mean)\n",
    "features['chroma_stft_var'].append(chroma_var)\n",
    "features['rms_mean'].append(rms_mean)\n",
    "features['rms_var'].append(rms_var)\n",
    "features['bandwidth_mean'].append(bandwidth_mean)\n",
    "features['bandwidth_var'].append(bandwidth_var)\n",
    "        \n",
    "        \n",
    "df = pd.DataFrame(features)\n",
    "\n",
    "\n",
    "\n",
    "df = get_feat(pathtofile)\n",
    "label = df.classlabel\n",
    "to_test = df.drop('classlabel',axis=1)\n",
    "\n",
    "cols = X.columns\n",
    "min_max_scaler = preprocessing.MinMaxScaler()\n",
    "np_scaled = min_max_scaler.fit_transform(to_test)\n",
    "\n",
    "to_test = pd.DataFrame(np_scaled, columns = cols)\n",
    "\n"
   ]
  },
  {
   "cell_type": "code",
   "execution_count": 113,
   "metadata": {},
   "outputs": [
    {
     "ename": "NameError",
     "evalue": "name 'to_test' is not defined",
     "output_type": "error",
     "traceback": [
      "\u001b[1;31m---------------------------------------------------------------------------\u001b[0m",
      "\u001b[1;31mNameError\u001b[0m                                 Traceback (most recent call last)",
      "\u001b[1;32m<ipython-input-113-1c75bbc61701>\u001b[0m in \u001b[0;36m<module>\u001b[1;34m\u001b[0m\n\u001b[1;32m----> 1\u001b[1;33m \u001b[0mpred\u001b[0m \u001b[1;33m=\u001b[0m \u001b[0mmodel\u001b[0m\u001b[1;33m.\u001b[0m\u001b[0mpredict\u001b[0m\u001b[1;33m(\u001b[0m\u001b[0mto_test\u001b[0m\u001b[1;33m)\u001b[0m\u001b[1;33m\u001b[0m\u001b[1;33m\u001b[0m\u001b[0m\n\u001b[0m\u001b[0;32m      2\u001b[0m \u001b[1;33m\u001b[0m\u001b[0m\n\u001b[0;32m      3\u001b[0m \u001b[0mprint\u001b[0m\u001b[1;33m(\u001b[0m\u001b[0mpred\u001b[0m\u001b[1;33m)\u001b[0m\u001b[1;33m\u001b[0m\u001b[1;33m\u001b[0m\u001b[0m\n",
      "\u001b[1;31mNameError\u001b[0m: name 'to_test' is not defined"
     ]
    }
   ],
   "source": [
    "pred = model.predict(to_test)\n",
    "\n",
    "print(pred)"
   ]
  },
  {
   "cell_type": "code",
   "execution_count": null,
   "metadata": {},
   "outputs": [],
   "source": []
  },
  {
   "cell_type": "code",
   "execution_count": null,
   "metadata": {
    "scrolled": true
   },
   "outputs": [],
   "source": []
  },
  {
   "cell_type": "code",
   "execution_count": null,
   "metadata": {},
   "outputs": [],
   "source": []
  },
  {
   "cell_type": "code",
   "execution_count": null,
   "metadata": {},
   "outputs": [],
   "source": []
  },
  {
   "cell_type": "code",
   "execution_count": null,
   "metadata": {},
   "outputs": [],
   "source": []
  },
  {
   "cell_type": "code",
   "execution_count": null,
   "metadata": {},
   "outputs": [],
   "source": []
  },
  {
   "cell_type": "code",
   "execution_count": null,
   "metadata": {},
   "outputs": [],
   "source": []
  },
  {
   "cell_type": "code",
   "execution_count": null,
   "metadata": {
    "scrolled": true
   },
   "outputs": [],
   "source": []
  },
  {
   "cell_type": "code",
   "execution_count": null,
   "metadata": {},
   "outputs": [],
   "source": []
  },
  {
   "cell_type": "code",
   "execution_count": null,
   "metadata": {},
   "outputs": [],
   "source": []
  },
  {
   "cell_type": "code",
   "execution_count": null,
   "metadata": {},
   "outputs": [],
   "source": []
  },
  {
   "cell_type": "code",
   "execution_count": null,
   "metadata": {},
   "outputs": [],
   "source": []
  },
  {
   "cell_type": "code",
   "execution_count": null,
   "metadata": {},
   "outputs": [],
   "source": []
  },
  {
   "cell_type": "code",
   "execution_count": null,
   "metadata": {},
   "outputs": [],
   "source": []
  },
  {
   "cell_type": "code",
   "execution_count": null,
   "metadata": {},
   "outputs": [],
   "source": []
  },
  {
   "cell_type": "code",
   "execution_count": null,
   "metadata": {},
   "outputs": [],
   "source": []
  },
  {
   "cell_type": "code",
   "execution_count": null,
   "metadata": {},
   "outputs": [],
   "source": []
  },
  {
   "cell_type": "code",
   "execution_count": null,
   "metadata": {},
   "outputs": [],
   "source": []
  },
  {
   "cell_type": "code",
   "execution_count": null,
   "metadata": {
    "scrolled": true
   },
   "outputs": [],
   "source": []
  },
  {
   "cell_type": "code",
   "execution_count": null,
   "metadata": {},
   "outputs": [],
   "source": []
  },
  {
   "cell_type": "code",
   "execution_count": null,
   "metadata": {},
   "outputs": [],
   "source": []
  }
 ],
 "metadata": {
  "kernelspec": {
   "display_name": "Python 3",
   "language": "python",
   "name": "python3"
  },
  "language_info": {
   "codemirror_mode": {
    "name": "ipython",
    "version": 3
   },
   "file_extension": ".py",
   "mimetype": "text/x-python",
   "name": "python",
   "nbconvert_exporter": "python",
   "pygments_lexer": "ipython3",
   "version": "3.8.3"
  }
 },
 "nbformat": 4,
 "nbformat_minor": 4
}
